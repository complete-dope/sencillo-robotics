{
 "cells": [
  {
   "cell_type": "markdown",
   "id": "101c3221",
   "metadata": {},
   "source": [
    "In the CLIP paper we dont take the i_k dim vs the t_k+x dimension because each dimension be it in text modality or image modality it should take up the same meaning , a dimension 'k' should represent the same in both the vectors as they are coming from the same latent space !!"
   ]
  },
  {
   "cell_type": "markdown",
   "id": "c09eb62d",
   "metadata": {},
   "source": []
  }
 ],
 "metadata": {
  "language_info": {
   "name": "python"
  }
 },
 "nbformat": 4,
 "nbformat_minor": 5
}
