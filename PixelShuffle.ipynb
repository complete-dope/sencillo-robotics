{
 "cells": [
  {
   "cell_type": "markdown",
   "id": "8aaecf27",
   "metadata": {},
   "source": [
    "## Pixel shuffle \n",
    "\n",
    "What is pixel shuffling and how is it done ? \n",
    "\n",
    "\n",
    "---\n",
    "Its an upscaling model that works on low dimensional space, so rather than doing this on the upscaled image, we are doing this on the low dimensional scaled down images  \n",
    "\n",
    "---\n"
   ]
  },
  {
   "cell_type": "code",
   "execution_count": null,
   "id": "ec1bfacf",
   "metadata": {
    "vscode": {
     "languageId": "plaintext"
    }
   },
   "outputs": [],
   "source": []
  },
  {
   "cell_type": "code",
   "execution_count": null,
   "id": "579bdc0d",
   "metadata": {
    "vscode": {
     "languageId": "plaintext"
    }
   },
   "outputs": [],
   "source": []
  }
 ],
 "metadata": {
  "language_info": {
   "name": "python"
  }
 },
 "nbformat": 4,
 "nbformat_minor": 5
}
