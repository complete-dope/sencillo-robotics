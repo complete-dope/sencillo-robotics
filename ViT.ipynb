{
 "cells": [
  {
   "cell_type": "code",
   "execution_count": 8,
   "id": "b481df05",
   "metadata": {},
   "outputs": [
    {
     "name": "stdout",
     "output_type": "stream",
     "text": [
      "/home/mohit/Desktop/mdesktop/robotics/sencillo-robotics\n"
     ]
    }
   ],
   "source": [
    "import torch\n",
    "import torch.nn as nn \n",
    "\n",
    "\n",
    "import os \n",
    "\n",
    "\n",
    "FILE_PATH = os.getcwd()\n",
    "print(FILE_PATH)"
   ]
  },
  {
   "cell_type": "code",
   "execution_count": 1,
   "id": "ad9f6d80",
   "metadata": {},
   "outputs": [
    {
     "data": {
      "application/vnd.jupyter.widget-view+json": {
       "model_id": "a9b7cf8ca9f843c9b0b858e23d28371f",
       "version_major": 2,
       "version_minor": 0
      },
      "text/plain": [
       "README.md: 0.00B [00:00, ?B/s]"
      ]
     },
     "metadata": {},
     "output_type": "display_data"
    },
    {
     "data": {
      "application/vnd.jupyter.widget-view+json": {
       "model_id": "497e8fe73f2c4a7f8e03ca43bb7b9cc0",
       "version_major": 2,
       "version_minor": 0
      },
      "text/plain": [
       "train-00000-of-00001.parquet:   0%|          | 0.00/15.6M [00:00<?, ?B/s]"
      ]
     },
     "metadata": {},
     "output_type": "display_data"
    },
    {
     "data": {
      "application/vnd.jupyter.widget-view+json": {
       "model_id": "9ca63e4e17244b11b87043408e6c46d5",
       "version_major": 2,
       "version_minor": 0
      },
      "text/plain": [
       "test-00000-of-00001.parquet:   0%|          | 0.00/2.60M [00:00<?, ?B/s]"
      ]
     },
     "metadata": {},
     "output_type": "display_data"
    },
    {
     "data": {
      "application/vnd.jupyter.widget-view+json": {
       "model_id": "46c53e0922b9451e91f162e41cb7b768",
       "version_major": 2,
       "version_minor": 0
      },
      "text/plain": [
       "Generating train split:   0%|          | 0/60000 [00:00<?, ? examples/s]"
      ]
     },
     "metadata": {},
     "output_type": "display_data"
    },
    {
     "data": {
      "application/vnd.jupyter.widget-view+json": {
       "model_id": "871d57e94ca54e869c37fd74eb557a5a",
       "version_major": 2,
       "version_minor": 0
      },
      "text/plain": [
       "Generating test split:   0%|          | 0/10000 [00:00<?, ? examples/s]"
      ]
     },
     "metadata": {},
     "output_type": "display_data"
    },
    {
     "name": "stdout",
     "output_type": "stream",
     "text": [
      "Dataset({\n",
      "    features: ['image', 'label'],\n",
      "    num_rows: 100\n",
      "})\n"
     ]
    }
   ],
   "source": [
    "# This is a ViT model \n",
    "from datasets import load_dataset\n",
    "from PIL import Image  # force Pillow import\n",
    "\n",
    "\n",
    "# lets take a small image \n",
    "# ds = load_dataset(\"itsmohit/stl10_5percent\", split='test',  cache_dir=FILE_PATH, )\n",
    "ds = load_dataset('mnist', split='train[:100]', cache_dir = FILE_PATH)\n",
    "print(ds)"
   ]
  },
  {
   "cell_type": "code",
   "execution_count": 7,
   "id": "7432f416",
   "metadata": {},
   "outputs": [
    {
     "name": "stdout",
     "output_type": "stream",
     "text": [
      "{'image': <PIL.PngImagePlugin.PngImageFile image mode=L size=28x28 at 0x7E21FC0A4CD0>, 'label': 5}\n"
     ]
    }
   ],
   "source": [
    "# Print the first element of the dataset to inspect its structure\n",
    "print(ds[0])\n",
    "\n",
    "# Correctly open the image using PIL's Image module\n",
    "image = ds[0].get('image')\n",
    "\n",
    "# Display the image to verify it was loaded correctly\n",
    "image.show()"
   ]
  },
  {
   "cell_type": "code",
   "execution_count": 25,
   "id": "ecb4a519",
   "metadata": {},
   "outputs": [
    {
     "name": "stdout",
     "output_type": "stream",
     "text": [
      "Total patches: 16\n",
      "Patch shape: (7, 7)\n"
     ]
    }
   ],
   "source": [
    "# visualise this image using mtl \n",
    "import numpy as np\n",
    "# Convert to numpy array\n",
    "img_array = np.array(image)  # shape: (128, 128, 3) for RGB\n",
    "\n",
    "# Patch size\n",
    "patch_size = 7\n",
    "\n",
    "# Compute number of patches along height and width\n",
    "num_patches_h = img_array.shape[0] // patch_size\n",
    "num_patches_w = img_array.shape[1] // patch_size\n",
    "\n",
    "# Split into patches\n",
    "patches = []\n",
    "for i in range(num_patches_h):\n",
    "    for j in range(num_patches_w):\n",
    "        patch = img_array[\n",
    "            i*patch_size:(i+1)*patch_size,\n",
    "            j*patch_size:(j+1)*patch_size\n",
    "        ]\n",
    "        patches.append(patch)\n",
    "\n",
    "# Convert patches back to PIL images if needed\n",
    "patches_pil = [Image.fromarray(p) for p in patches]\n",
    "\n",
    "n_patches = len(patches)\n",
    "print(f\"Total patches: {len(patches)}\")  # 128x128 / 14x14 = 64 patches\n",
    "print(f\"Patch shape: {patches[0].shape}\")  # (14, 14, 3)"
   ]
  },
  {
   "cell_type": "code",
   "execution_count": 26,
   "id": "d28a2444",
   "metadata": {},
   "outputs": [
    {
     "data": {
      "image/png": "[encoded data removed]",
      "text/plain": [
       "<Figure size 1600x600 with 24 Axes>"
      ]
     },
     "metadata": {},
     "output_type": "display_data"
    }
   ],
   "source": [
    "\n",
    "from math import ceil\n",
    "# Parameteras for plotting\n",
    "max_per_row = 8\n",
    "num_patches = len(patches)\n",
    "num_rows = ceil(num_patches / max_per_row)\n",
    "\n",
    "# Create figure with original on top + patch rows\n",
    "fig, axes = plt.subplots(num_rows + 1, max_per_row, figsize=(max_per_row*2, (num_rows+1)*2))\n",
    "\n",
    "# Plot original image on top row, spanning all columns\n",
    "for ax in axes[0]:\n",
    "    ax.axis('off')\n",
    "axes[0,0].imshow(img_array)\n",
    "axes[0,0].set_title(\"Original Image\")\n",
    "for ax in axes[0,1:]:\n",
    "    ax.set_visible(False)\n",
    "\n",
    "# Plot patches\n",
    "for idx, patch in enumerate(patches):\n",
    "    row = (idx // max_per_row) + 1  # +1 to skip top row\n",
    "    col = idx % max_per_row\n",
    "    axes[row, col].imshow(patch)\n",
    "    axes[row, col].set_title(f\"Patch {idx+1}\")\n",
    "    axes[row, col].axis('off')\n",
    "\n",
    "# Hide any empty axes\n",
    "for i in range(num_patches, num_rows*max_per_row):\n",
    "    row = (i // max_per_row) + 1\n",
    "    col = i % max_per_row\n",
    "    axes[row, col].set_visible(False)\n",
    "\n",
    "plt.tight_layout()\n",
    "plt.show()"
   ]
  },
  {
   "cell_type": "markdown",
   "id": "ce873eaa",
   "metadata": {},
   "source": [
    "#### The patches are divided and shown now we need to tokenize these patches\n",
    " "
   ]
  }
 ],
 "metadata": {
  "kernelspec": {
   "display_name": ".vvenv",
   "language": "python",
   "name": "python3"
  },
  "language_info": {
   "codemirror_mode": {
    "name": "ipython",
    "version": 3
   },
   "file_extension": ".py",
   "mimetype": "text/x-python",
   "name": "python",
   "nbconvert_exporter": "python",
   "pygments_lexer": "ipython3",
   "version": "3.11.9"
  }
 },
 "nbformat": 4,
 "nbformat_minor": 5
}
